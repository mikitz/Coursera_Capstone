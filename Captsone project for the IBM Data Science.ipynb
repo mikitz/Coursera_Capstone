{
    "cells": [
        {
            "cell_type": "markdown",
            "metadata": {
                "collapsed": true
            },
            "source": "# Captsone project for the IBM Data Science Professional Certificate \n\n(https://www.coursera.org/professional-certificates/ibm-data-science?#courses)"
        },
        {
            "cell_type": "code",
            "execution_count": null,
            "metadata": {},
            "outputs": [],
            "source": "import pandas as pd\nimport numpy as np\nimport matplotlib.pyplot as plt\nprint(\"Hello, Capstone Project Course!\")"
        },
        {
            "cell_type": "code",
            "execution_count": null,
            "metadata": {},
            "outputs": [],
            "source": "!conda install -c anaconda seaborn -y\nimport seaborn as sb\nprint(\"Seaborn installed successfully!\")"
        },
        {
            "cell_type": "code",
            "execution_count": null,
            "metadata": {},
            "outputs": [],
            "source": "# The code was removed by Watson Studio for sharing."
        },
        {
            "cell_type": "markdown",
            "metadata": {},
            "source": "## 2. Data Acquisition and Cleaning"
        },
        {
            "cell_type": "code",
            "execution_count": null,
            "metadata": {},
            "outputs": [],
            "source": "# drop the column of PEDROWNOTGRNT due to missing 97.6% of values and drop SPEEDING due to too many missing values.\n# drop INTKEY, INATTENTIONIND, and STATUS due to irrelevance.\ndfw = df.drop(['PEDROWNOTGRNT', 'INTKEY', 'INATTENTIONIND', 'SPEEDING', 'STATUS'], axis = 1)\n# drop the rows containing NaN values for the following columns.\ndfw.dropna(subset=['X', 'Y', 'ADDRTYPE', 'LOCATION', 'COLLISIONTYPE', 'JUNCTIONTYPE', 'UNDERINFL', 'WEATHER', 'ROADCOND', 'LIGHTCOND', 'ST_COLDESC', 'SDOTCOLNUM'], axis = 0, inplace = True)\n# drop EXCEPTRSNCODE and EXCEPTRSNDESC columns as missing 96.46% and 99.99% of values respectively\ndfw.drop(['EXCEPTRSNCODE', 'EXCEPTRSNDESC'], axis = 1, inplace = True)\ndfw.columns"
        },
        {
            "cell_type": "code",
            "execution_count": null,
            "metadata": {},
            "outputs": [],
            "source": "# create a new dataframe on which to run the models\ndfm = dfw.drop(['OBJECTID', 'INCKEY', 'COLDETKEY', 'REPORTNO', 'LOCATION', 'SEVERITYDESC', 'INCDATE', 'INCDTTM', 'SDOTCOLNUM', 'SEGLANEKEY', 'CROSSWALKKEY', 'HITPARKEDCAR', 'ST_COLCODE', 'ST_COLDESC', 'SDOT_COLDESC', 'SDOT_COLCODE', 'ADDRTYPE', 'UNDERINFL'], axis = 1)"
        },
        {
            "cell_type": "code",
            "execution_count": null,
            "metadata": {},
            "outputs": [],
            "source": "# drop the pesky X and Y columns... Finally\ndfm.drop(['X', 'Y'], axis = 1, inplace = True)\n# drop the duplicate SEVERITYCODE column named SEVERITYCODE.1\ndfm.drop(['SEVERITYCODE.1'], axis = 1, inplace = True)\ndfm.shape"
        },
        {
            "cell_type": "code",
            "execution_count": null,
            "metadata": {},
            "outputs": [],
            "source": "# filter out the rows in which there are more than 10 persons.\ndfm1 = dfm[dfm['PERSONCOUNT'] < 11]\ndfm1.shape"
        },
        {
            "cell_type": "code",
            "execution_count": null,
            "metadata": {},
            "outputs": [],
            "source": "# filter out the rows in which there are more than 3 pedestrians. \ndfm2 = dfm1[dfm1['PEDCOUNT'] < 4]\ndfm2.shape"
        },
        {
            "cell_type": "code",
            "execution_count": null,
            "metadata": {},
            "outputs": [],
            "source": "dfm2.groupby(['PERSONCOUNT', 'SEVERITYCODE'])['SEVERITYCODE'].count()"
        },
        {
            "cell_type": "code",
            "execution_count": null,
            "metadata": {},
            "outputs": [],
            "source": "dfm2.columns"
        },
        {
            "cell_type": "code",
            "execution_count": null,
            "metadata": {},
            "outputs": [],
            "source": "dfm2.isnull().sum()"
        },
        {
            "cell_type": "code",
            "execution_count": null,
            "metadata": {},
            "outputs": [],
            "source": "dfm2.head()"
        },
        {
            "cell_type": "markdown",
            "metadata": {},
            "source": "## 3. Exploratory Data Analysis"
        },
        {
            "cell_type": "code",
            "execution_count": null,
            "metadata": {},
            "outputs": [],
            "source": "# 3.2 plot severity vs lighting conditions\nindvar = 'LIGHTCOND'\n\n# prepare the data to be plotted\ndflc = (dfm2\n    .groupby([indvar, 'SEVERITYCODE'])\n    .size()\n    .reset_index()\n    .replace({'SEVERITYCODE': {1:\"prop. damage\", 2:\"minor injury\"}})\n    .rename(columns={0:\"count\"}))\n\n# calculate survival % per town of embarkation    \ndflc[\"percent\"] = (dflc\n                 .groupby(indvar)\n                 .apply(lambda x: x[\"count\"] / x[\"count\"].sum()).values)\n\n# sort the dataframe to match the drawing order    \ndflc.sort_values(by=['SEVERITYCODE', indvar], inplace = True)\n\n# plot severity vs lighting conditions\nplt.style.use('ggplot')\nfig = sb.catplot(\n    x=\"count\", y=indvar, hue='SEVERITYCODE',\n    kind=\"bar\", data=dflc, height=10, aspect=2, legend_out = False)\n\nfor i, bar in enumerate(fig.ax.patches):\n   \n    height = bar.get_height()\n    fig.ax.annotate(\n        # reference the pre-calculated row in the dataframe\n        f\"{dflc.iloc[i, 3] :.0%}\",\n        xycoords=\"data\",\n        xytext=(30, -15),\n        fontsize = 18,\n        textcoords=\"offset points\",\n        xy=(bar.get_width(), bar.get_y()),\n        ha='center', va='center')\n    \n# make space for annonations\nplt.margins(x=0.2)\n\n# make final adjustments\nplt.title('Lighting Conditions vs. Number of Collisions by Severity', fontsize = 30)\nplt.xlabel('Number of Collisions', fontsize = 24)\nplt.ylabel('Lighting Conditions', fontsize = 24)\nplt.tick_params(labelsize=18)\nplt.legend(fontsize = 18, title = \"Severity\", loc = 'lower right', title_fontsize = 18, shadow = True)\nplt.show()"
        },
        {
            "cell_type": "code",
            "execution_count": null,
            "metadata": {},
            "outputs": [],
            "source": "# 3.3 plot severity vs weather conditions\nindvar = 'WEATHER'\n\n# prepare the data to be plotted\ndflc = (dfm2\n    .groupby([indvar, 'SEVERITYCODE'])\n    .size()\n    .reset_index()\n    .replace({'SEVERITYCODE': {1:\"prop. damage\", 2:\"minor injury\"}})\n    .rename(columns={0:\"count\"}))\n\n# calculate survival % per town of embarkation    \ndflc[\"percent\"] = (dflc\n                 .groupby(indvar)\n                 .apply(lambda x: x[\"count\"] / x[\"count\"].sum()).values)\n\n# sort the dataframe to match the drawing order    \ndflc.sort_values(by=['SEVERITYCODE', indvar], inplace = True)\n\n# plot severity vs lighting conditions\nplt.style.use('ggplot')\nfig = sb.catplot(\n    x=\"count\", y=indvar, hue='SEVERITYCODE',\n    kind=\"bar\", data=dflc, height=10, aspect=2, legend_out = False)\n\nfor i, bar in enumerate(fig.ax.patches):\n   \n    height = bar.get_height()\n    fig.ax.annotate(\n        # reference the pre-calculated row in the dataframe\n        f\"{dflc.iloc[i, 3] :.0%}\",\n        xycoords=\"data\",\n        xytext=(30, -15),\n        fontsize = 18,\n        textcoords=\"offset points\",\n        xy=(bar.get_width(), bar.get_y()),\n        ha='center', va='center')\n    \n# make space for annonations\nplt.margins(x=0.2)\n\n# make final adjustments\nplt.title('Weather Conditions vs. Number of Collisions by Severity', fontsize = 30)\nplt.xlabel('Number of Collisions', fontsize = 24)\nplt.ylabel('Weather Conditions', fontsize = 24)\nplt.tick_params(labelsize=18)\nplt.legend(fontsize = 18, title = \"Severity\", loc = 'lower right', title_fontsize = 18, shadow = True)\nplt.show()"
        },
        {
            "cell_type": "code",
            "execution_count": null,
            "metadata": {},
            "outputs": [],
            "source": "# 3.4 plot severity vs road conditions\nindvar = 'ROADCOND'\n\n# prepare the data to be plotted\ndflc = (dfm2\n    .groupby([indvar, 'SEVERITYCODE'])\n    .size()\n    .reset_index()\n    .replace({'SEVERITYCODE': {1:\"prop. damage\", 2:\"minor injury\"}})\n    .rename(columns={0:\"count\"}))\n\n# calculate survival % per town of embarkation    \ndflc[\"percent\"] = (dflc\n                 .groupby(indvar)\n                 .apply(lambda x: x[\"count\"] / x[\"count\"].sum()).values)\n\n# sort the dataframe to match the drawing order    \ndflc.sort_values(by=['SEVERITYCODE', indvar], inplace = True)\n\n# plot severity vs lighting conditions\nplt.style.use('ggplot')\nfig = sb.catplot(\n    x=\"count\", y=indvar, hue='SEVERITYCODE',\n    kind=\"bar\", data=dflc, height=10, aspect=2, legend_out = False)\n\nfor i, bar in enumerate(fig.ax.patches):\n   \n    height = bar.get_height()\n    fig.ax.annotate(\n        # reference the pre-calculated row in the dataframe\n        f\"{dflc.iloc[i, 3] :.0%}\",\n        xycoords=\"data\",\n        xytext=(30, -15),\n        fontsize = 18,\n        textcoords=\"offset points\",\n        xy=(bar.get_width(), bar.get_y()),\n        ha='center', va='center')\n    \n# make space for annonations\nplt.margins(x=0.2)\n\n# make final adjustments\nplt.title('Road Conditions vs. Number of Collisions by Severity', fontsize = 30)\nplt.xlabel('Number of Collisions', fontsize = 24)\nplt.ylabel('Road Conditions', fontsize = 24)\nplt.tick_params(labelsize=18)\nplt.legend(fontsize = 18, title = \"Severity\", loc = 'lower right', title_fontsize = 18, shadow = True)\nplt.show()"
        },
        {
            "cell_type": "code",
            "execution_count": null,
            "metadata": {},
            "outputs": [],
            "source": "# 3.5 plot severity vs collision type\nindvar = 'COLLISIONTYPE'\ndepvar = 'Collision Type'\n\n# prepare the data to be plotted\ndflc = (dfm2\n    .groupby([indvar, 'SEVERITYCODE'])\n    .size()\n    .reset_index()\n    .replace({'SEVERITYCODE': {1:\"prop. damage\", 2:\"minor injury\"}})\n    .rename(columns={0:\"count\"}))\n\n# calculate survival % per town of embarkation    \ndflc[\"percent\"] = (dflc\n                 .groupby(indvar)\n                 .apply(lambda x: x[\"count\"] / x[\"count\"].sum()).values)\n\n# sort the dataframe to match the drawing order    \ndflc.sort_values(by=['SEVERITYCODE', indvar], inplace = True)\n\n# plot severity vs lighting conditions\nplt.style.use('ggplot')\nfig = sb.catplot(\n    x=\"count\", y=indvar, hue='SEVERITYCODE',\n    kind=\"bar\", data=dflc, height=10, aspect=2, legend_out = False)\n\nfor i, bar in enumerate(fig.ax.patches):\n   \n    height = bar.get_height()\n    fig.ax.annotate(\n        # reference the pre-calculated row in the dataframe\n        f\"{dflc.iloc[i, 3] :.0%}\",\n        xycoords=\"data\",\n        xytext=(30, -15),\n        fontsize = 18,\n        textcoords=\"offset points\",\n        xy=(bar.get_width(), bar.get_y()),\n        ha='center', va='center')\n    \n# make space for annonations\nplt.margins(x=0.2)\n\n# make final adjustments\nplt.title(depvar + ' vs. Number of Collisions by Severity', fontsize = 30)\nplt.xlabel('Number of Collisions', fontsize = 24)\nplt.ylabel(depvar, fontsize = 24)\nplt.tick_params(labelsize=18)\nplt.legend(fontsize = 18, title = \"Severity\", loc = 'lower right', title_fontsize = 18, shadow = True)\nplt.show()"
        },
        {
            "cell_type": "code",
            "execution_count": null,
            "metadata": {},
            "outputs": [],
            "source": "# 3.6 plot severity vs junction type\nindvar = 'JUNCTIONTYPE'\ndepvar = 'Junction Type'\n\n# prepare the data to be plotted\ndflc = (dfm2\n    .groupby([indvar, 'SEVERITYCODE'])\n    .size()\n    .reset_index()\n    .replace({'SEVERITYCODE': {1:\"prop. damage\", 2:\"minor injury\"}})\n    .rename(columns={0:\"count\"}))\n\n# calculate survival % per town of embarkation    \ndflc[\"percent\"] = (dflc\n                 .groupby(indvar)\n                 .apply(lambda x: x[\"count\"] / x[\"count\"].sum()).values)\n\n# sort the dataframe to match the drawing order    \ndflc.sort_values(by=['SEVERITYCODE', indvar], inplace = True)\n\n# plot severity vs lighting conditions\nplt.style.use('ggplot')\nfig = sb.catplot(\n    x=\"count\", y=indvar, hue='SEVERITYCODE',\n    kind=\"bar\", data=dflc, height=10, aspect=2, legend_out = False)\n\nfor i, bar in enumerate(fig.ax.patches):\n   \n    height = bar.get_height()\n    fig.ax.annotate(\n        # reference the pre-calculated row in the dataframe\n        f\"{dflc.iloc[i, 3] :.0%}\",\n        xycoords=\"data\",\n        xytext=(30, -15),\n        fontsize = 18,\n        textcoords=\"offset points\",\n        xy=(bar.get_width(), bar.get_y()),\n        ha='center', va='center')\n    \n# make space for annonations\nplt.margins(x=0.2)\n\n# make final adjustments\nplt.title(depvar + ' vs. Number of Collisions by Severity', fontsize = 30)\nplt.xlabel('Number of Collisions', fontsize = 24)\nplt.ylabel(depvar, fontsize = 24)\nplt.tick_params(labelsize=18)\nplt.legend(fontsize = 18, title = \"Severity\", loc = 'lower right', title_fontsize = 18, shadow = True)\nplt.show()"
        },
        {
            "cell_type": "code",
            "execution_count": null,
            "metadata": {},
            "outputs": [],
            "source": "# 3.7 plot severity vs number of people \nindvar = 'VEHCOUNT'\ndepvar = 'Number of Vehicles'\n\n# prepare the data to be plotted\ndflc = (dfm2\n    .groupby([indvar, 'SEVERITYCODE'])\n    .size()\n    .reset_index()\n    .replace({'SEVERITYCODE': {1:\"prop. damage\", 2:\"minor injury\"}})\n    .rename(columns={0:\"count\"}))\n\n# calculate survival % per town of embarkation    \ndflc[\"percent\"] = (dflc\n                 .groupby(indvar)\n                 .apply(lambda x: x[\"count\"] / x[\"count\"].sum()).values)\n\n# sort the dataframe to match the drawing order    \ndflc.sort_values(by=['SEVERITYCODE', indvar], inplace = True)\n\n# plot severity vs lighting conditions\nplt.style.use('ggplot')\nfig = sb.catplot(\n    x=\"count\", y=indvar, hue='SEVERITYCODE',\n    kind=\"bar\", data=dflc, height=10, aspect=2, legend_out = False)\n\nfor i, bar in enumerate(fig.ax.patches):\n   \n    height = bar.get_height()\n    fig.ax.annotate(\n        # reference the pre-calculated row in the dataframe\n        f\"{dflc.iloc[i, 3] :.0%}\",\n        xycoords=\"data\",\n        xytext=(30, -15),\n        fontsize = 18,\n        textcoords=\"offset points\",\n        xy=(bar.get_width(), bar.get_y()),\n        ha='center', va='center')\n    \n# make space for annonations\nplt.margins(x=0.2)\n\n# make final adjustments\nplt.title(depvar + ' vs. Number of Collisions by Severity', fontsize = 30)\nplt.xlabel('Number of Collisions', fontsize = 24)\nplt.ylabel(depvar, fontsize = 24)\nplt.tick_params(labelsize=18)\nplt.legend(fontsize = 18, title = \"Severity\", loc = 'lower right', title_fontsize = 18, shadow = True)\nplt.show()"
        },
        {
            "cell_type": "code",
            "execution_count": null,
            "metadata": {},
            "outputs": [],
            "source": "# 3.8 plot severity vs number of people \nindvar = 'PERSONCOUNT'\ndepvar = 'Number of People'\n\n# prepare the data to be plotted\ndflc = (dfm2\n    .groupby([indvar, 'SEVERITYCODE'])\n    .size()\n    .reset_index()\n    .replace({'SEVERITYCODE': {1:\"prop. damage\", 2:\"minor injury\"}})\n    .rename(columns={0:\"count\"}))\n\n# calculate survival % per town of embarkation    \ndflc[\"percent\"] = (dflc\n                 .groupby(indvar)\n                 .apply(lambda x: x[\"count\"] / x[\"count\"].sum()).values)\n\n# sort the dataframe to match the drawing order    \ndflc.sort_values(by=['SEVERITYCODE', indvar], inplace = True)\n\n# plot severity vs lighting conditions\nplt.style.use('ggplot')\nfig = sb.catplot(\n    x=\"count\", y=indvar, hue='SEVERITYCODE',\n    kind=\"bar\", data=dflc, height=10, aspect=2, legend_out = False)\n\nfor i, bar in enumerate(fig.ax.patches):\n   \n    height = bar.get_height()\n    fig.ax.annotate(\n        # reference the pre-calculated row in the dataframe\n        f\"{dflc.iloc[i, 3] :.0%}\",\n        xycoords=\"data\",\n        xytext=(30, -15),\n        fontsize = 18,\n        textcoords=\"offset points\",\n        xy=(bar.get_width(), bar.get_y()),\n        ha='center', va='center')\n    \n# make space for annonations\nplt.margins(x=0.2)\n\n# make final adjustments\nplt.title(depvar + ' vs. Number of Collisions by Severity', fontsize = 30)\nplt.xlabel('Number of Collisions', fontsize = 24)\nplt.ylabel(depvar, fontsize = 24)\nplt.tick_params(labelsize=18)\nplt.legend(fontsize = 18, title = \"Severity\", loc = 'lower right', title_fontsize = 18, shadow = True)\nplt.show()"
        },
        {
            "cell_type": "code",
            "execution_count": null,
            "metadata": {},
            "outputs": [],
            "source": "# 3.9 plot severity vs number of pedestrians\nindvar = 'PEDCOUNT'\ndepvar = 'Number of Pedestrians'\n\n# prepare the data to be plotted\ndflc = (dfm2\n    .groupby([indvar, 'SEVERITYCODE'])\n    .size()\n    .reset_index()\n    .replace({'SEVERITYCODE': {1:\"prop. damage\", 2:\"minor injury\"}})\n    .rename(columns={0:\"count\"}))\n\n# calculate survival % per town of embarkation    \ndflc[\"percent\"] = (dflc\n                 .groupby(indvar)\n                 .apply(lambda x: x[\"count\"] / x[\"count\"].sum()).values)\n\n# sort the dataframe to match the drawing order    \ndflc.sort_values(by=['SEVERITYCODE', indvar], inplace = True)\n\n# plot severity vs lighting conditions\nplt.style.use('ggplot')\nfig = sb.catplot(\n    x=\"count\", y=indvar, hue='SEVERITYCODE',\n    kind=\"bar\", data=dflc, height=10, aspect=2, legend_out = False)\n\nfor i, bar in enumerate(fig.ax.patches):\n   \n    height = bar.get_height()\n    fig.ax.annotate(\n        # reference the pre-calculated row in the dataframe\n        f\"{dflc.iloc[i, 3] :.0%}\",\n        xycoords=\"data\",\n        xytext=(30, -15),\n        fontsize = 18,\n        textcoords=\"offset points\",\n        xy=(bar.get_width(), bar.get_y()),\n        ha='center', va='center')\n    \n# make space for annonations\nplt.margins(x=0.2)\n\n# make final adjustments\nplt.title(depvar + ' vs. Number of Collisions by Severity', fontsize = 30)\nplt.xlabel('Number of Collisions', fontsize = 24)\nplt.ylabel(depvar, fontsize = 24)\nplt.tick_params(labelsize=18)\nplt.legend(fontsize = 18, title = \"Severity\", loc = 'lower right', title_fontsize = 18, shadow = True)\nplt.show()"
        },
        {
            "cell_type": "code",
            "execution_count": null,
            "metadata": {},
            "outputs": [],
            "source": "# 3.10 plot severity vs number of cyclists\nindvar = 'PEDCYLCOUNT'\ndepvar = 'Number of Cyclists'\n\n# prepare the data to be plotted\ndflc = (dfm2\n    .groupby([indvar, 'SEVERITYCODE'])\n    .size()\n    .reset_index()\n    .replace({'SEVERITYCODE': {1:\"prop. damage\", 2:\"minor injury\"}})\n    .rename(columns={0:\"count\"}))\n\n# calculate survival % per town of embarkation    \ndflc[\"percent\"] = (dflc\n                 .groupby(indvar)\n                 .apply(lambda x: x[\"count\"] / x[\"count\"].sum()).values)\n\n# sort the dataframe to match the drawing order    \ndflc.sort_values(by=['SEVERITYCODE', indvar], inplace = True)\n\n# plot severity vs lighting conditions\nplt.style.use('ggplot')\nfig = sb.catplot(\n    x=\"count\", y=indvar, hue='SEVERITYCODE',\n    kind=\"bar\", data=dflc, height=10, aspect=2, legend_out = False)\n\nfor i, bar in enumerate(fig.ax.patches):\n   \n    height = bar.get_height()\n    fig.ax.annotate(\n        # reference the pre-calculated row in the dataframe\n        f\"{dflc.iloc[i, 3] :.0%}\",\n        xycoords=\"data\",\n        xytext=(30, -15),\n        fontsize = 18,\n        textcoords=\"offset points\",\n        xy=(bar.get_width(), bar.get_y()),\n        ha='center', va='center')\n    \n# make space for annonations\nplt.margins(x=0.2)\n\n# make final adjustments\nplt.title(depvar + ' vs. Number of Collisions by Severity', fontsize = 30)\nplt.xlabel('Number of Collisions', fontsize = 24)\nplt.ylabel(depvar, fontsize = 24)\nplt.tick_params(labelsize=18)\nplt.legend(fontsize = 18, title = \"Severity\", loc = 'lower right', title_fontsize = 18, shadow = True)\nplt.show()"
        },
        {
            "cell_type": "code",
            "execution_count": null,
            "metadata": {},
            "outputs": [],
            "source": "dfm2.dtypes\ndfm2.columns"
        },
        {
            "cell_type": "markdown",
            "metadata": {},
            "source": "## 4. Predictive Modeling"
        },
        {
            "cell_type": "markdown",
            "metadata": {},
            "source": "### 4.1 Data Wrangling"
        },
        {
            "cell_type": "code",
            "execution_count": null,
            "metadata": {},
            "outputs": [],
            "source": "# Converting categorical variables to quantitative variables\ndummy_collisiontype = pd.get_dummies(dfm2[\"COLLISIONTYPE\"])\ndummy_junctiontype  = pd.get_dummies(dfm2[\"JUNCTIONTYPE\"])\ndummy_weather = pd.get_dummies(dfm2[\"WEATHER\"])\ndummy_roadcond = pd.get_dummies(dfm2[\"ROADCOND\"])\ndummy_lightcond = pd.get_dummies(dfm2[\"LIGHTCOND\"])"
        },
        {
            "cell_type": "code",
            "execution_count": null,
            "metadata": {},
            "outputs": [],
            "source": "# merging data from dummies into the dataframe\ndfm3 = pd.concat([dfm2, dummy_collisiontype], axis = 1)\ndfm3 = pd.concat([dfm3, dummy_junctiontype], axis = 1)\ndfm3 = pd.concat([dfm3, dummy_weather], axis = 1)\ndfm3 = pd.concat([dfm3, dummy_roadcond], axis = 1)\ndfm3 = pd.concat([dfm3, dummy_lightcond], axis = 1)"
        },
        {
            "cell_type": "code",
            "execution_count": null,
            "metadata": {},
            "outputs": [],
            "source": "# dropping original categorical variable columns\ndfm3.drop(\"COLLISIONTYPE\", axis = 1, inplace = True)\ndfm3.drop(\"JUNCTIONTYPE\", axis = 1, inplace = True)\ndfm3.drop(\"WEATHER\", axis = 1, inplace = True)\ndfm3.drop(\"ROADCOND\", axis = 1, inplace = True)\ndfm3.drop(\"LIGHTCOND\", axis = 1, inplace = True)\n\ndfm3.shape"
        },
        {
            "cell_type": "code",
            "execution_count": null,
            "metadata": {},
            "outputs": [],
            "source": "dfm3.columns"
        },
        {
            "cell_type": "code",
            "execution_count": null,
            "metadata": {},
            "outputs": [],
            "source": "# convert all columns to uppercase for consistency\ndfm3.columns = map(str.upper, dfm3.columns)\ndfm3.columns"
        },
        {
            "cell_type": "code",
            "execution_count": null,
            "metadata": {},
            "outputs": [],
            "source": "from sklearn.linear_model import LinearRegression\nfrom sklearn.metrics import mean_squared_error\nfrom sklearn.preprocessing import PolynomialFeatures\nfrom sklearn.pipeline import Pipeline\nfrom sklearn.preprocessing import StandardScaler\nfrom sklearn.metrics import r2_score\nfrom sklearn.model_selection import train_test_split\nfrom sklearn.model_selection import cross_val_score\nfrom sklearn.model_selection import cross_val_predict\nfrom sklearn.model_selection import GridSearchCV\nfrom sklearn.linear_model import Ridge"
        },
        {
            "cell_type": "code",
            "execution_count": null,
            "metadata": {},
            "outputs": [],
            "source": "Z = dfm3[['PERSONCOUNT', 'PEDCOUNT', 'PEDCYLCOUNT', 'VEHCOUNT',\n       'ANGLES', 'CYCLES', 'HEAD ON', 'LEFT TURN', 'PARKED CAR',\n       'PEDESTRIAN', 'REAR ENDED', 'RIGHT TURN', 'SIDESWIPE',\n       'AT INTERSECTION (BUT NOT RELATED TO INTERSECTION)',\n       'AT INTERSECTION (INTERSECTION RELATED)', 'DRIVEWAY JUNCTION',\n       'MID-BLOCK (BUT INTERSECTION RELATED)',\n       'MID-BLOCK (NOT RELATED TO INTERSECTION)', 'RAMP JUNCTION',\n       'BLOWING SAND/DIRT', 'CLEAR', 'FOG/SMOG/SMOKE', 'OVERCAST',\n       'RAINING', 'SEVERE CROSSWIND', 'SLEET/HAIL/FREEZING RAIN', 'SNOWING',\n       'UNKNOWN', 'DRY', 'ICE', 'OIL', 'SAND/MUD/DIRT', 'SNOW/SLUSH',\n       'STANDING WATER', 'WET', 'DARK - NO STREET LIGHTS',\n       'DARK - STREET LIGHTS OFF', 'DARK - STREET LIGHTS ON', 'DAWN',\n       'DAYLIGHT', 'DUSK']]\nY = dfm3[['SEVERITYCODE']]"
        },
        {
            "cell_type": "markdown",
            "metadata": {},
            "source": "### 4.3 Classification Models"
        },
        {
            "cell_type": "code",
            "execution_count": null,
            "metadata": {},
            "outputs": [],
            "source": "import itertools\nimport numpy as np\nimport matplotlib.pyplot as plt\nfrom matplotlib.ticker import NullFormatter\nimport pandas as pd\nimport numpy as np\nimport matplotlib.ticker as ticker\nfrom sklearn import preprocessing\n%matplotlib inline\nfrom sklearn import metrics\nfrom sklearn.metrics import roc_curve\nfrom sklearn.metrics import roc_auc_score\nfrom sklearn.metrics import jaccard_similarity_score\nfrom sklearn.metrics import f1_score\nfrom sklearn.metrics import log_loss"
        },
        {
            "cell_type": "code",
            "execution_count": null,
            "metadata": {},
            "outputs": [],
            "source": "# define function to plot a confusion matrix\ndef plot_confusion_matrix(cm, classes,\n                          normalize=False,\n                          title='Confusion matrix',\n                          cmap=plt.cm.Blues):\n    \"\"\"\n    This function prints and plots the confusion matrix.\n    Normalization can be applied by setting `normalize=True`.\n    \"\"\"\n    if normalize:\n        cm = cm.astype('float') / cm.sum(axis=1)[:, np.newaxis]\n        print(\"Normalized confusion matrix\")\n    else:\n        print('Confusion matrix, without normalization')\n\n    print(cm)\n\n    plt.imshow(cm, interpolation='nearest', cmap=cmap)\n    plt.title(title)\n    plt.colorbar()\n    tick_marks = np.arange(len(classes))\n    plt.xticks(tick_marks, classes, rotation=45)\n    plt.yticks(tick_marks, classes)\n\n    fmt = '.2f' if normalize else 'd'\n    thresh = cm.max() / 2.\n    for i, j in itertools.product(range(cm.shape[0]), range(cm.shape[1])):\n        plt.text(j, i, format(cm[i, j], fmt),\n                 horizontalalignment=\"center\",\n                 color=\"white\" if cm[i, j] > thresh else \"black\")\n\n    plt.tight_layout()\n    plt.ylabel('True label')\n    plt.xlabel('Predicted label')"
        },
        {
            "cell_type": "code",
            "execution_count": null,
            "metadata": {},
            "outputs": [],
            "source": "Zcm = preprocessing.StandardScaler().fit(Z).transform(Z.astype(float))\nZcm[0:5]"
        },
        {
            "cell_type": "code",
            "execution_count": null,
            "metadata": {},
            "outputs": [],
            "source": "X_train, X_test, y_train, y_test = train_test_split(Zcm, Y, test_size=0.2, random_state=4)\nprint ('Train set:', X_train.shape,  y_train.shape)\nprint ('Test set:', X_test.shape,  y_test.shape)"
        },
        {
            "cell_type": "markdown",
            "metadata": {},
            "source": "#### Decision Tree"
        },
        {
            "cell_type": "code",
            "execution_count": null,
            "metadata": {},
            "outputs": [],
            "source": "from sklearn.tree import DecisionTreeClassifier\nfrom sklearn.externals.six import StringIO\n!conda install -c conda-forge pydotplus\nimport matplotlib.image as mpimg\nfrom sklearn import tree\n%matplotlib inline "
        },
        {
            "cell_type": "code",
            "execution_count": null,
            "metadata": {},
            "outputs": [],
            "source": "X_trainDT, X_testDT, y_trainDT, y_testDT = train_test_split(Zcm, Y, test_size=0.3, random_state=3)\ncollisionTree = DecisionTreeClassifier(criterion=\"entropy\", max_depth = 4)\ncollisionTree.fit(X_trainDT, y_trainDT)\npredTree = collisionTree.predict(X_testDT)\nyhat_probDT = collisionTree.predict_proba(X_testDT)\nprint(\"Decision's Tree Accuracy: \", metrics.accuracy_score(y_testDT, predTree))"
        },
        {
            "cell_type": "code",
            "execution_count": null,
            "metadata": {},
            "outputs": [],
            "source": "dot_data = StringIO()\nfilename = \"collisiontree.png\"\nfeatureNames = Z[0:43]\ntargetNames = dfm3[\"SEVERITYCODE\"].unique().tolist()\nout=tree.export_graphviz(collisionTree, feature_names = featureNames, out_file=dot_data, class_names= np.unique(y_trainset), filled=True,  special_characters=True,rotate=False)  \ngraph = pydotplus.graph_from_dot_data(dot_data.getvalue())  \ngraph.write_png(filename)\nimg = mpimg.imread(filename)\nplt.figure(figsize=(100, 200))\nplt.imshow(img,interpolation='nearest')"
        },
        {
            "cell_type": "code",
            "execution_count": null,
            "metadata": {},
            "outputs": [],
            "source": "print(f1_score(y_testDT, predTree, average='weighted')) \nprint(jaccard_similarity_score(y_testDT, predTree))\nprint(log_loss(y_testDT, yhat_probDT))"
        },
        {
            "cell_type": "code",
            "execution_count": null,
            "metadata": {},
            "outputs": [],
            "source": "from sklearn.metrics import classification_report, confusion_matrix\nprint(confusion_matrix(y_testDT, predTree, labels=[2,1]))"
        },
        {
            "cell_type": "code",
            "execution_count": null,
            "metadata": {},
            "outputs": [],
            "source": "# Compute confusion matrix\ncnf_matrix = confusion_matrix(y_testDT, predTree, labels=[2,1])\nnp.set_printoptions(precision=2)\n\n# Plot non-normalized confusion matrix\nplt.figure()\nplot_confusion_matrix(cnf_matrix, classes=['severity=2','severity=1'],normalize= False,  title='Confusion matrix')"
        },
        {
            "cell_type": "markdown",
            "metadata": {},
            "source": "#### Logistic Regression"
        },
        {
            "cell_type": "code",
            "execution_count": 46,
            "metadata": {},
            "outputs": [],
            "source": "import pylab as pl\nimport scipy.optimize as opt\nfrom sklearn.linear_model import LogisticRegression\nfrom sklearn.metrics import confusion_matrix\nfrom sklearn.metrics import jaccard_similarity_score\nfrom sklearn.metrics import classification_report, confusion_matrix\nimport itertools\nfrom sklearn.metrics import log_loss"
        },
        {
            "cell_type": "code",
            "execution_count": null,
            "metadata": {},
            "outputs": [],
            "source": "X_trainLR, X_testLR, y_trainLR, y_testLR = train_test_split(Zcm, Y, test_size=0.2, random_state=4)\nprint ('Train set:', X_trainLR.shape,  y_trainLR.shape)\nprint ('Test set:', X_testLR.shape,  y_testLR.shape)"
        },
        {
            "cell_type": "code",
            "execution_count": null,
            "metadata": {},
            "outputs": [],
            "source": "LR = LogisticRegression(C=0.01, solver='liblinear').fit(X_trainLR, y_trainLR.values.ravel())"
        },
        {
            "cell_type": "code",
            "execution_count": null,
            "metadata": {},
            "outputs": [],
            "source": "yhatLR = LR.predict(X_testLR)"
        },
        {
            "cell_type": "code",
            "execution_count": null,
            "metadata": {},
            "outputs": [],
            "source": "yhat_probLR = LR.predict_proba(X_testLR)"
        },
        {
            "cell_type": "code",
            "execution_count": null,
            "metadata": {},
            "outputs": [],
            "source": "jaccard_similarity_score(y_testLR, yhatLR)"
        },
        {
            "cell_type": "code",
            "execution_count": null,
            "metadata": {},
            "outputs": [],
            "source": "print(confusion_matrix(y_testLR, yhatLR, labels=[2,1]))"
        },
        {
            "cell_type": "code",
            "execution_count": null,
            "metadata": {},
            "outputs": [],
            "source": "# Compute confusion matrix\ncnf_matrix = confusion_matrix(y_testLR, yhatLR, labels=[2,1])\nnp.set_printoptions(precision=2)\n\n# Plot non-normalized confusion matrix\nplt.figure()\nplot_confusion_matrix(cnf_matrix, classes=['severity=2','severity=1'],normalize= False,  title='Confusion matrix')"
        },
        {
            "cell_type": "code",
            "execution_count": null,
            "metadata": {},
            "outputs": [],
            "source": "print(f1_score(y_testLR, yhatLR, average='weighted')) \nprint(jaccard_similarity_score(y_testLR, yhatLR))\nprint(log_loss(y_testLR, yhat_probLR))"
        },
        {
            "cell_type": "markdown",
            "metadata": {},
            "source": "#### Support Vector Machine"
        },
        {
            "cell_type": "code",
            "execution_count": 60,
            "metadata": {},
            "outputs": [],
            "source": "from sklearn import svm\nfrom sklearn.metrics import classification_report, confusion_matrix\nimport itertools"
        },
        {
            "cell_type": "code",
            "execution_count": 61,
            "metadata": {},
            "outputs": [
                {
                    "name": "stdout",
                    "output_type": "stream",
                    "text": "Train set: (87408, 43) (87408, 1)\nTest set: (21852, 43) (21852, 1)\n"
                }
            ],
            "source": "X_trainSVM, X_testSVM, y_trainSVM, y_testSVM = train_test_split(Zcm, Y, test_size=0.2, random_state=4)\nprint ('Train set:', X_trainSVM.shape,  y_trainSVM.shape)\nprint ('Test set:', X_testSVM.shape,  y_testSVM.shape)"
        },
        {
            "cell_type": "code",
            "execution_count": 63,
            "metadata": {},
            "outputs": [
                {
                    "name": "stderr",
                    "output_type": "stream",
                    "text": "/opt/conda/envs/Python36/lib/python3.6/site-packages/sklearn/svm/base.py:196: FutureWarning: The default value of gamma will change from 'auto' to 'scale' in version 0.22 to account better for unscaled features. Set gamma explicitly to 'auto' or 'scale' to avoid this warning.\n  \"avoid this warning.\", FutureWarning)\n"
                },
                {
                    "data": {
                        "text/plain": "SVC(C=1.0, cache_size=200, class_weight=None, coef0=0.0,\n  decision_function_shape='ovr', degree=3, gamma='auto_deprecated',\n  kernel='rbf', max_iter=-1, probability=True, random_state=None,\n  shrinking=True, tol=0.001, verbose=False)"
                    },
                    "execution_count": 63,
                    "metadata": {},
                    "output_type": "execute_result"
                }
            ],
            "source": "clf = svm.SVC(kernel='rbf', probability = True)\nclf.fit(X_trainSVM, y_trainSVM.values.ravel()) "
        },
        {
            "cell_type": "code",
            "execution_count": 64,
            "metadata": {},
            "outputs": [],
            "source": "yhatSVM = clf.predict(X_testSVM)"
        },
        {
            "cell_type": "code",
            "execution_count": 68,
            "metadata": {},
            "outputs": [],
            "source": "yhat_probSVM = clf.predict_proba(X_testSVM)"
        },
        {
            "cell_type": "code",
            "execution_count": null,
            "metadata": {},
            "outputs": [],
            "source": "print(f1_score(y_testSVM, yhatSVM, average='weighted')) \nprint(jaccard_similarity_score(y_testSVM, yhatSVM))\nprint(log_loss(y_testSVM, yhat_probSVM))"
        },
        {
            "cell_type": "code",
            "execution_count": null,
            "metadata": {},
            "outputs": [],
            "source": "print(confusion_matrix(y_testSVM, yhatSVM, labels=[2,1]))"
        },
        {
            "cell_type": "code",
            "execution_count": null,
            "metadata": {},
            "outputs": [],
            "source": "# Compute confusion matrix\ncnf_matrix = confusion_matrix(y_testSVM, yhatSVM, labels=[2,1])\nnp.set_printoptions(precision=2)\n\n# Plot non-normalized confusion matrix\nplt.figure()\nplot_confusion_matrix(cnf_matrix, classes=['severity=2','severity=1'],normalize= False,  title='Confusion matrix')"
        },
        {
            "cell_type": "markdown",
            "metadata": {},
            "source": "#### ROC Curves"
        },
        {
            "cell_type": "code",
            "execution_count": null,
            "metadata": {},
            "outputs": [],
            "source": "from sklearn.metrics import roc_curve\nfrom sklearn.metrics import roc_auc_score"
        },
        {
            "cell_type": "code",
            "execution_count": 70,
            "metadata": {},
            "outputs": [
                {
                    "name": "stdout",
                    "output_type": "stream",
                    "text": "[0.37 0.37 0.09 ... 0.37 0.01 0.37]\n[0.35 0.35 0.49 ... 0.16 0.41 0.3 ]\n[0.23 0.23 0.45 ... 0.24 0.25 0.23]\n"
                }
            ],
            "source": "yhat_probsDT = yhat_probDT[:, 1]\nyhat_probsLR = yhat_probLR[:, 1]\nyhat_probsSVM = yhat_probSVM[:, 1]\nprint(yhat_probsDT)\nprint(yhat_probsLR)\nprint(yhat_probsSVM)"
        },
        {
            "cell_type": "code",
            "execution_count": 71,
            "metadata": {},
            "outputs": [
                {
                    "name": "stdout",
                    "output_type": "stream",
                    "text": "AUC: 0.74\nAUC: 0.79\nAUC: 0.70\n"
                }
            ],
            "source": "aucDT = roc_auc_score(y_testDT, yhat_probsDT)\naucLR = roc_auc_score(y_testLR, yhat_probsLR)\naucSVM = roc_auc_score(y_testSVM, yhat_probsSVM)\nprint('AUC: %.2f' % aucDT)\nprint('AUC: %.2f' % aucLR)\nprint('AUC: %.2f' % aucSVM)"
        },
        {
            "cell_type": "code",
            "execution_count": 72,
            "metadata": {},
            "outputs": [],
            "source": "fprDT, tprDT, thresholdsDT = roc_curve(y_testDT, yhat_probsDT, pos_label = 2)\nfprLR, tprLR, thresholdsLR = roc_curve(y_testLR, yhat_probsLR, pos_label = 2)\nfprSVM, tprSVM, thresholdsSVM = roc_curve(y_testSVM, yhat_probsSVM, pos_label = 2)"
        },
        {
            "cell_type": "code",
            "execution_count": 73,
            "metadata": {},
            "outputs": [
                {
                    "data": {
                        "image/png": "[encoded data removed]",
                        "text/plain": "<Figure size 432x288 with 1 Axes>"
                    },
                    "metadata": {
                        "needs_background": "light"
                    },
                    "output_type": "display_data"
                }
            ],
            "source": "# Set colors to those that support color deficient people\nplt.plot(fprDT, tprDT, color='orange', label='Decision Tree')\nplt.plot(fprLR, tprLR, color='#87ceeb', label='Logistic Regression')\nplt.plot(fprSVM, tprSVM, color='pink', label='Support Vector Machine')\nplt.plot([0, 1], [0, 1], color='darkblue', linestyle='--')\nplt.xlabel('False Positive Rate')\nplt.ylabel('True Positive Rate')\nplt.title('Receiver Operating Characteristic (ROC) Curve')\nplt.legend()\nplt.show()"
        },
        {
            "cell_type": "code",
            "execution_count": null,
            "metadata": {},
            "outputs": [],
            "source": ""
        }
    ],
    "metadata": {
        "kernelspec": {
            "display_name": "Python 3.6",
            "language": "python",
            "name": "python3"
        },
        "language_info": {
            "codemirror_mode": {
                "name": "ipython",
                "version": 3
            },
            "file_extension": ".py",
            "mimetype": "text/x-python",
            "name": "python",
            "nbconvert_exporter": "python",
            "pygments_lexer": "ipython3",
            "version": "3.6.9"
        }
    },
    "nbformat": 4,
    "nbformat_minor": 1
}